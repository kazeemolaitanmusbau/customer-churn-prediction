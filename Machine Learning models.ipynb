{
 "cells": [
  {
   "cell_type": "code",
   "execution_count": 37,
   "id": "37e936e1",
   "metadata": {},
   "outputs": [],
   "source": [
    "import numpy as np\n",
    "import pandas as pd\n",
    "import matplotlib.pyplot as plt\n",
    "from sklearn.preprocessing import LabelEncoder\n",
    "from sklearn.model_selection import train_test_split\n"
   ]
  },
  {
   "cell_type": "code",
   "execution_count": 99,
   "id": "0e4f0fcd",
   "metadata": {},
   "outputs": [],
   "source": [
    "train = pd.read_csv(\"train.csv\")\n",
    "test = pd.read_csv(\"test.csv\")"
   ]
  },
  {
   "cell_type": "code",
   "execution_count": 100,
   "id": "4576cd96",
   "metadata": {},
   "outputs": [],
   "source": [
    "# transform all the category column \n",
    "le = LabelEncoder()\n",
    "train[\"state\"]= le.fit_transform(train[\"state\"])\n",
    "train=pd.get_dummies(train, columns=[\"area_code\", \"international_plan\",\"voice_mail_plan\" ])"
   ]
  },
  {
   "cell_type": "code",
   "execution_count": 101,
   "id": "26875ad0",
   "metadata": {},
   "outputs": [],
   "source": [
    "from sklearn.utils import resample\n",
    "\n",
    "majority_class=train.query(\"churn=='no'\")\n",
    "len_majority_class= len(majority_class)\n",
    "\n",
    "minority_class=train.query(\"churn=='yes'\")\n",
    "len_minority_class= len(minority_class)\n",
    "\n",
    "\n",
    "over_sample_set=resample(minority_class, n_samples=len_majority_class, random_state=42)\n",
    "train_=pd.concat([majority_class, over_sample_set], ignore_index=True)"
   ]
  },
  {
   "cell_type": "code",
   "execution_count": 103,
   "id": "66c072d2",
   "metadata": {},
   "outputs": [],
   "source": [
    "# split the data into feature and target\n",
    "X = train_.copy()\n",
    "y = X.pop(\"churn\")"
   ]
  },
  {
   "cell_type": "code",
   "execution_count": 104,
   "id": "5fd5c079",
   "metadata": {},
   "outputs": [
    {
     "data": {
      "text/plain": [
       "no     3652\n",
       "yes    3652\n",
       "Name: churn, dtype: int64"
      ]
     },
     "execution_count": 104,
     "metadata": {},
     "output_type": "execute_result"
    }
   ],
   "source": [
    "y.value_counts()"
   ]
  },
  {
   "cell_type": "code",
   "execution_count": null,
   "id": "91224a8e",
   "metadata": {},
   "outputs": [],
   "source": []
  },
  {
   "cell_type": "code",
   "execution_count": 105,
   "id": "348bbc64",
   "metadata": {},
   "outputs": [],
   "source": [
    "# transform the label data\n",
    "rel = {\"no\":0, \"yes\":1}\n",
    "y=y.map(rel)"
   ]
  },
  {
   "cell_type": "code",
   "execution_count": 106,
   "id": "87a9d71e",
   "metadata": {},
   "outputs": [],
   "source": [
    "from sklearn.decomposition import PCA\n",
    "anal = PCA(n_components=15)\n",
    "new_col = anal.fit_transform(X)"
   ]
  },
  {
   "cell_type": "code",
   "execution_count": 107,
   "id": "363ec7e2",
   "metadata": {},
   "outputs": [],
   "source": [
    "# split the data into into train and val set\n",
    "train_x, val_x, train_y, val_y = train_test_split(new_col, y, random_state=42, test_size=0.2)"
   ]
  },
  {
   "cell_type": "code",
   "execution_count": null,
   "id": "0f9a646d",
   "metadata": {},
   "outputs": [],
   "source": []
  },
  {
   "cell_type": "code",
   "execution_count": null,
   "id": "13b68f45",
   "metadata": {},
   "outputs": [],
   "source": []
  },
  {
   "cell_type": "code",
   "execution_count": null,
   "id": "05633270",
   "metadata": {},
   "outputs": [],
   "source": []
  },
  {
   "cell_type": "code",
   "execution_count": 108,
   "id": "a529e172",
   "metadata": {},
   "outputs": [],
   "source": [
    "# training the model\n",
    "from sklearn.tree import DecisionTreeClassifier\n",
    "dc = DecisionTreeClassifier()\n",
    "model_1 = dc.fit(train_x, train_y)"
   ]
  },
  {
   "cell_type": "code",
   "execution_count": 109,
   "id": "92da5d95",
   "metadata": {},
   "outputs": [
    {
     "data": {
      "text/plain": [
       "0.971252566735113"
      ]
     },
     "execution_count": 109,
     "metadata": {},
     "output_type": "execute_result"
    }
   ],
   "source": [
    "# model evaluation\n",
    "from sklearn.metrics import accuracy_score, confusion_matrix\n",
    "y_pred = model_1.predict(val_x)\n",
    "accuracy_score(val_y, y_pred)"
   ]
  },
  {
   "cell_type": "code",
   "execution_count": 110,
   "id": "9d8cbe69",
   "metadata": {},
   "outputs": [
    {
     "data": {
      "text/plain": [
       "array([[710,  39],\n",
       "       [  3, 709]], dtype=int64)"
      ]
     },
     "execution_count": 110,
     "metadata": {},
     "output_type": "execute_result"
    }
   ],
   "source": [
    "confusion_matrix(val_y, y_pred)"
   ]
  },
  {
   "cell_type": "code",
   "execution_count": 112,
   "id": "49a35904",
   "metadata": {},
   "outputs": [],
   "source": [
    "from sklearn.linear_model import LogisticRegression\n",
    "lr = LogisticRegression(max_iter=1000)\n",
    "model_2 = lr.fit(train_x, train_y)\n"
   ]
  },
  {
   "cell_type": "code",
   "execution_count": 113,
   "id": "b9bbe8f2",
   "metadata": {},
   "outputs": [
    {
     "data": {
      "text/plain": [
       "0.7693360711841205"
      ]
     },
     "execution_count": 113,
     "metadata": {},
     "output_type": "execute_result"
    }
   ],
   "source": [
    "\n",
    "y_pred_2 = model_2.predict(val_x)\n",
    "accuracy_score(val_y, y_pred_2)"
   ]
  },
  {
   "cell_type": "code",
   "execution_count": null,
   "id": "d59019c6",
   "metadata": {},
   "outputs": [],
   "source": []
  },
  {
   "cell_type": "code",
   "execution_count": null,
   "id": "b92a781f",
   "metadata": {},
   "outputs": [],
   "source": []
  },
  {
   "cell_type": "code",
   "execution_count": null,
   "id": "2530902b",
   "metadata": {},
   "outputs": [],
   "source": []
  }
 ],
 "metadata": {
  "kernelspec": {
   "display_name": "Python 3 (ipykernel)",
   "language": "python",
   "name": "python3"
  },
  "language_info": {
   "codemirror_mode": {
    "name": "ipython",
    "version": 3
   },
   "file_extension": ".py",
   "mimetype": "text/x-python",
   "name": "python",
   "nbconvert_exporter": "python",
   "pygments_lexer": "ipython3",
   "version": "3.9.13"
  }
 },
 "nbformat": 4,
 "nbformat_minor": 5
}
